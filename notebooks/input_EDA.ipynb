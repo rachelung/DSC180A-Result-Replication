{
 "cells": [
  {
   "cell_type": "markdown",
   "metadata": {},
   "source": [
    "# EDA For Input Corpus\n",
    "This jupyter notebook serves to show the statistics regarding our input corpus, which is DBLP.5K by default"
   ]
  },
  {
   "cell_type": "code",
   "execution_count": null,
   "metadata": {},
   "outputs": [],
   "source": [
    "import pandas as pd\n",
    "import matplotlib.pyplot as plt\n",
    "import json\n",
    "import os\n",
    "import numpy as np\n",
    "%matplotlib inline"
   ]
  },
  {
   "cell_type": "code",
   "execution_count": null,
   "metadata": {},
   "outputs": [],
   "source": [
    "os.chdir(\"../\")"
   ]
  },
  {
   "cell_type": "code",
   "execution_count": null,
   "metadata": {},
   "outputs": [],
   "source": [
    "with open('config/input.json') as f:\n",
    "    json_data = json.load(f)"
   ]
  },
  {
   "cell_type": "code",
   "execution_count": null,
   "metadata": {},
   "outputs": [],
   "source": [
    "input_corpus = open(json_data['input'], 'r', encoding=\"utf8\")  \n",
    "Line_by_line = input_corpus.readlines()"
   ]
  },
  {
   "cell_type": "code",
   "execution_count": null,
   "metadata": {},
   "outputs": [],
   "source": [
    "#Obtaining the min, max, and average number of characters per line from the text corpus\n",
    "max_char = 0\n",
    "min_char = 1000\n",
    "char_sum = 0\n",
    "for line in Line_by_line:\n",
    "    len_doc = len(line)\n",
    "    char_sum += len_doc\n",
    "    if len_doc > max_char:\n",
    "        max_char = len_doc\n",
    "    if len_doc < min_char:\n",
    "        min_char = len_doc\n",
    "print(\"Maximum number of characters per line is: \" + str(max_char))\n",
    "print(\"Minimum number of characters per line is: \" + str(min_char))\n",
    "print(\"Average number of characters per line is: \" + str(char_sum/5000))\n",
    "input_corpus.close()"
   ]
  },
  {
   "cell_type": "code",
   "execution_count": null,
   "metadata": {},
   "outputs": [],
   "source": [
    "#Obtaining the min, max, and average number of characters per sentence from the text corpus\n",
    "input_corpus_again = open(json_data['input'], 'r', encoding='utf-8') \n",
    "Lines_total = input_corpus_again.read()\n",
    "sentences = Lines_total.replace('\\n','').split('.')\n",
    "avg_len_sent = 0\n",
    "max_sent_len = 0\n",
    "min_sent_len = 1000\n",
    "for sentence in sentences:\n",
    "    avg_len_sent += len(sentence)\n",
    "    if len(sentence) > max_sent_len:\n",
    "        max_sent_len = len(sentence)\n",
    "    if len(sentence) < min_sent_len:\n",
    "        min_sent_len = len(sentence)\n",
    "print(\"Maximum number of characters per sentence is: \" + str(max_sent_len))\n",
    "print(\"Minimum number of characters per sentence is: \" + str(min_sent_len))\n",
    "print(\"Average number of characters per sentence is: \" + str(avg_len_sent/len(sentences)))\n",
    "input_corpus_again.close()"
   ]
  },
  {
   "cell_type": "code",
   "execution_count": null,
   "metadata": {},
   "outputs": [],
   "source": [
    "input_corpus_once_more = open(json_data['input'], 'r', encoding='utf-8')\n",
    "Line_by_line = input_corpus_once_more.readlines()\n",
    "all_words = []\n",
    "for line in Line_by_line:\n",
    "    split_doc = line.split()\n",
    "    for word in split_doc:\n",
    "        all_words.append(word)\n",
    "\n",
    "print(\"Total number of words in input corpus is: \" + str(len(all_words)))\n",
    "input_corpus_once_more.close()"
   ]
  },
  {
   "cell_type": "code",
   "execution_count": null,
   "metadata": {},
   "outputs": [],
   "source": [
    "vals = pd.Series(all_words).value_counts()\n",
    "vals\n",
    "\n",
    "#Uncomment to see word count of rare words (less than 5 occurances)\n",
    "#vals[vals < 5]"
   ]
  }
 ],
 "metadata": {},
 "nbformat": 4,
 "nbformat_minor": 2
}
